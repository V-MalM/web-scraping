{
 "cells": [
  {
   "cell_type": "markdown",
   "source": [
    "#### Dependencies"
   ],
   "metadata": {}
  },
  {
   "cell_type": "code",
   "execution_count": 2,
   "source": [
    "from splinter import Browser\r\n",
    "from bs4 import BeautifulSoup\r\n",
    "import pandas as pd\r\n",
    "import time\r\n",
    "from webdriver_manager.chrome import ChromeDriverManager"
   ],
   "outputs": [],
   "metadata": {}
  },
  {
   "cell_type": "markdown",
   "source": [
    "#### Setup splinter"
   ],
   "metadata": {}
  },
  {
   "cell_type": "code",
   "execution_count": 3,
   "source": [
    "# Setup Splinter\r\n",
    "executable_path = {'executable_path': ChromeDriverManager().install()}\r\n",
    "browser = Browser('chrome', **executable_path, headless=False)  "
   ],
   "outputs": [
    {
     "output_type": "stream",
     "name": "stderr",
     "text": [
      "\n",
      "\n",
      "====== WebDriver manager ======\n",
      "Current google-chrome version is 92.0.4515\n",
      "Get LATEST driver version for 92.0.4515\n",
      "Driver [C:\\Users\\vmuty\\.wdm\\drivers\\chromedriver\\win32\\92.0.4515.107\\chromedriver.exe] found in cache\n"
     ]
    }
   ],
   "metadata": {}
  },
  {
   "cell_type": "markdown",
   "source": [
    "#### NASA Mars News\r\n",
    "\r\n",
    "* Scraped the [Mars News Site](https://redplanetscience.com/) and collected the latest News Title and Paragraph Text. Stored the text to variables. Also scraped the date of the article which is ofcourse, the current date.\r\n",
    "\r\n",
    "* This URL loaded noticibly slow, may be because of it's dynamic content.\r\n",
    "Using 'time' to make the execution wait for 2 seconds.\r\n",
    "\r\n",
    "* In case that fails, it enters a while loop to make sure it does not go further unless this page has loaded completely and has been scraped."
   ],
   "metadata": {}
  },
  {
   "cell_type": "code",
   "execution_count": 4,
   "source": [
    "scrape_data = {}\r\n",
    "\r\n",
    "# Scrape NASA Mars News\r\n",
    "url_redplanetscience = 'https://redplanetscience.com/'\r\n",
    "\r\n",
    "browser.visit(url_redplanetscience)\r\n",
    "time.sleep(2)    "
   ],
   "outputs": [],
   "metadata": {}
  },
  {
   "cell_type": "code",
   "execution_count": 6,
   "source": [
    "# If the website did not entirely load and failed to fetch info, only then it does the following\r\n",
    "while len(browser.find_by_xpath('//div[@class=\"list_text\"]')) == 0  :\r\n",
    "    browser.visit(url_redplanetscience)\r\n",
    "    time.sleep(2) \r\n",
    "    browser.reload()\r\n",
    "\r\n",
    "html_redplanetscience = browser.html\r\n",
    "soup_redplanetscience = BeautifulSoup(html_redplanetscience, 'html.parser')\r\n",
    "\r\n",
    "results_redplanetscience = soup_redplanetscience.find('div', class_='list_text')\r\n",
    "news_date  = results_redplanetscience.find('div', class_='list_date').text\r\n",
    "news_title = results_redplanetscience.find('div', class_='content_title').text\r\n",
    "news_para  = results_redplanetscience.find('div', class_='article_teaser_body').text\r\n",
    "\r\n",
    "scrape_data[\"news_date\"]  = news_date\r\n",
    "scrape_data[\"news_title\"] = news_title\r\n",
    "scrape_data[\"news_para\"]  = news_para\r\n",
    "\r\n",
    "\r\n",
    "print (f\"{news_date} :\\n{news_title}\\n{news_para}\")\r\n"
   ],
   "outputs": [
    {
     "output_type": "stream",
     "name": "stdout",
     "text": [
      "August 16, 2021 :\n",
      "NASA Engineers Checking InSight's Weather Sensors\n",
      "An electronics issue is suspected to be preventing the sensors from sharing their data about Mars weather with the spacecraft.\n"
     ]
    }
   ],
   "metadata": {}
  },
  {
   "cell_type": "markdown",
   "source": [
    "### JPL Mars Space Images - Featured Image\r\n",
    "* Visited url for the Featured Space Image site [here](https://spaceimages-mars.com).\r\n",
    "* Used splinter to navigate the site and find the image url for the current Featured Mars Image and assign the url string to a variable called `featured_image_url`.\r\n",
    "* Searched for full size `.jpg` image.\r\n",
    "* Saved the url string for this image."
   ],
   "metadata": {}
  },
  {
   "cell_type": "code",
   "execution_count": 10,
   "source": [
    "# Code for featured_image_url \r\n",
    "url_spaceimages = 'https://spaceimages-mars.com/'\r\n",
    "browser.visit(url_spaceimages)\r\n",
    "\r\n",
    "html_spaceimages = browser.html\r\n",
    "soup_spaceimages = BeautifulSoup(html_spaceimages, 'html.parser')\r\n",
    "results_spaceimages = soup_spaceimages.find('div', class_='floating_text_area')\r\n",
    "featured_image = results_spaceimages.find('a').text.strip().upper()\r\n",
    "\r\n",
    "if (featured_image != \"\" and featured_image == \"FULL IMAGE\"):\r\n",
    "    featured_image = results_spaceimages.find('a').get('href')\r\n",
    "else:\r\n",
    "    featured_image == soup_spaceimages.find('a', class_='showimg fancybox-thumbs').get('href')\r\n",
    "\r\n",
    "featured_image_url = url_spaceimages + featured_image\r\n",
    "scrape_data[\"featured_image_url\"]  = featured_image_url\r\n",
    "featured_image_url\r\n"
   ],
   "outputs": [
    {
     "output_type": "execute_result",
     "data": {
      "text/plain": [
       "'https://spaceimages-mars.com/image/featured/mars3.jpg'"
      ]
     },
     "metadata": {},
     "execution_count": 10
    }
   ],
   "metadata": {}
  },
  {
   "cell_type": "markdown",
   "source": [
    "### Mars Facts\r\n",
    "* Visited the Mars Facts webpage [here](https://galaxyfacts-mars.com) and used Pandas to scrape the table containing facts about the planet including Diameter, Mass, etc.\r\n",
    "* Used Pandas to convert the data to a HTML table string.\r\n",
    "* Stripped off spaces,  new line character, not-required rows and columns\r\n",
    "* Saved the HTML string to a variable 'galaxyfacts_html'."
   ],
   "metadata": {}
  },
  {
   "cell_type": "code",
   "execution_count": 33,
   "source": [
    "import pandas as pd"
   ],
   "outputs": [],
   "metadata": {}
  },
  {
   "cell_type": "code",
   "execution_count": 13,
   "source": [
    "# Loading url to browser\r\n",
    "url_galaxyfacts = 'https://galaxyfacts-mars.com'\r\n",
    "\r\n",
    "# Using Pandas read_html to read the html tables from the website\r\n",
    "# This returns a list of all tables found\r\n",
    "tables_galaxyfacts = pd.read_html(url_galaxyfacts)\r\n",
    "\r\n",
    "# Print to identify the required table. \r\n",
    "#print (tables_galaxyfacts)\r\n",
    "\r\n",
    "# In this case , we want  table with list index 1 \r\n",
    "# Move this HTML to a DataFrame\r\n",
    "df = tables_galaxyfacts[1]\r\n",
    "\r\n",
    "# converting dataframe to HTML by using pandas 'to_HTML'. Set the index to False\r\n",
    "galaxyfacts_html = df.to_html(index=False)\r\n",
    "\r\n",
    "# Stripping spaces,  new line character, not-required rows and columns\r\n",
    "galaxyfacts_html = galaxyfacts_html.replace('\\n','')\r\n",
    "galaxyfacts_html = galaxyfacts_html.replace('class=\"dataframe\"','class=\"table tablipede-str\"')\r\n",
    "galaxyfacts_html = galaxyfacts_html.replace('<thead>    <tr style=\"text-align: right;\">      <th>0</th>      <th>1</th>    </tr>  </thead>','')\r\n",
    "\r\n",
    "# Adding clean data to scrape_data dictionary  \r\n",
    "scrape_data[\"galaxyfacts_html\"]  = galaxyfacts_html\r\n",
    "galaxyfacts_html\r\n"
   ],
   "outputs": [
    {
     "output_type": "execute_result",
     "data": {
      "text/plain": [
       "'<table border=\"1\" class=\"table tablipede-str\">    <tbody>    <tr>      <td>Equatorial Diameter:</td>      <td>6,792 km</td>    </tr>    <tr>      <td>Polar Diameter:</td>      <td>6,752 km</td>    </tr>    <tr>      <td>Mass:</td>      <td>6.39 × 10^23 kg (0.11 Earths)</td>    </tr>    <tr>      <td>Moons:</td>      <td>2 ( Phobos &amp; Deimos )</td>    </tr>    <tr>      <td>Orbit Distance:</td>      <td>227,943,824 km (1.38 AU)</td>    </tr>    <tr>      <td>Orbit Period:</td>      <td>687 days (1.9 years)</td>    </tr>    <tr>      <td>Surface Temperature:</td>      <td>-87 to -5 °C</td>    </tr>    <tr>      <td>First Record:</td>      <td>2nd millennium BC</td>    </tr>    <tr>      <td>Recorded By:</td>      <td>Egyptian astronomers</td>    </tr>  </tbody></table>'"
      ]
     },
     "metadata": {},
     "execution_count": 13
    }
   ],
   "metadata": {}
  },
  {
   "cell_type": "markdown",
   "source": [
    "### Mars Hemispheres\r\n",
    "\r\n",
    "* Visit the astrogeology site 'https://marshemispheres.com/' to obtain high resolution images for each of Mar's hemispheres.\r\n",
    "\r\n",
    "* You will need to click each of the links to the hemispheres in order to find the image url to the full resolution image.\r\n",
    "\r\n",
    "* Save both the image url string for the full resolution hemisphere image, and the Hemisphere title containing the hemisphere name. Use a Python dictionary to store the data using the keys `img_url` and `title`.\r\n",
    "\r\n",
    "* Append the dictionary with the image url string and the hemisphere title to a list. This list will contain one dictionary for each hemisphere.\r\n",
    "\r\n",
    "```python\r\n",
    "# Example:\r\n",
    "hemisphere_image_urls = [\r\n",
    "    {\"title\": \"Valles Marineris Hemisphere\", \"img_url\": \"...\"},\r\n",
    "    {\"title\": \"Cerberus Hemisphere\", \"img_url\": \"...\"},\r\n",
    "    {\"title\": \"Schiaparelli Hemisphere\", \"img_url\": \"...\"},\r\n",
    "    {\"title\": \"Syrtis Major Hemisphere\", \"img_url\": \"...\"},\r\n",
    "]\r\n",
    "```"
   ],
   "metadata": {}
  },
  {
   "cell_type": "code",
   "execution_count": null,
   "source": [
    "url_hem = 'https://marshemispheres.com/'\r\n",
    "browser.visit(url_hem)\r\n",
    "browser.reload()"
   ],
   "outputs": [],
   "metadata": {}
  },
  {
   "cell_type": "code",
   "execution_count": 13,
   "source": [
    "hemisphere_image_urls  = []\r\n",
    "url_hem_html = browser.html\r\n",
    "\r\n",
    "soup_url_hem_html = BeautifulSoup(url_hem_html,'html.parser')\r\n",
    "hem_img_divs = soup_url_hem_html.find_all('div', class_=\"description\")\r\n",
    "for item in hem_img_divs:\r\n",
    "     #print (item.find('a').get('href'))\r\n",
    "     link_text = item.find('a').text\r\n",
    "     link_text=link_text.strip()\r\n",
    "     \r\n",
    "     but = browser.find_by_text(link_text)\r\n",
    "     but.click()\r\n",
    "\r\n",
    "     # At this point broswer has new url\r\n",
    "     soup_full_res = BeautifulSoup(browser.html,'html.parser')\r\n",
    "     full_res_div  = soup_full_res.find_all('div', class_=\"downloads\")\r\n",
    "     full_res_img_url = url_hem + full_res_div[0].find('a').get('href')\r\n",
    "     print(full_res_img_url)\r\n",
    "     \r\n",
    "     url_dict = {\"title\":link_text, \"img_url=\":full_res_img_url}\r\n",
    "     hemisphere_image_urls.append(url_dict)\r\n",
    "\r\n",
    "     browser.visit(url_hem)\r\n",
    "     browser.reload()\r\n",
    "\r\n"
   ],
   "outputs": [],
   "metadata": {}
  },
  {
   "cell_type": "code",
   "execution_count": null,
   "source": [
    "hemisphere_image_urls\r\n",
    "\r\n"
   ],
   "outputs": [
    {
     "output_type": "execute_result",
     "data": {
      "text/plain": [
       "[{'title': 'Cerberus Hemisphere Enhanced',\n",
       "  'img_url=': 'https://marshemispheres.com/images/full.jpg'},\n",
       " {'title': 'Schiaparelli Hemisphere Enhanced',\n",
       "  'img_url=': 'https://marshemispheres.com/images/schiaparelli_enhanced-full.jpg'},\n",
       " {'title': 'Syrtis Major Hemisphere Enhanced',\n",
       "  'img_url=': 'https://marshemispheres.com/images/syrtis_major_enhanced-full.jpg'},\n",
       " {'title': 'Valles Marineris Hemisphere Enhanced',\n",
       "  'img_url=': 'https://marshemispheres.com/images/valles_marineris_enhanced-full.jpg'}]"
      ]
     },
     "metadata": {},
     "execution_count": 62
    }
   ],
   "metadata": {}
  },
  {
   "cell_type": "code",
   "execution_count": 14,
   "source": [
    "browser.quit()"
   ],
   "outputs": [],
   "metadata": {}
  },
  {
   "cell_type": "code",
   "execution_count": 1,
   "source": [
    "url = [{'title': 'Cerberus Hemisphere Enhanced',\r\n",
    "  'img_url': 'https://marshemispheres.com/images/full.jpg'},\r\n",
    " {'title': 'Schiaparelli Hemisphere Enhanced',\r\n",
    "  'img_url': 'https://marshemispheres.com/images/schiaparelli_enhanced-full.jpg'},\r\n",
    " {'title': 'Syrtis Major Hemisphere Enhanced',\r\n",
    "  'img_url': 'https://marshemispheres.com/images/syrtis_major_enhanced-full.jpg'},\r\n",
    " {'title': 'Valles Marineris Hemisphere Enhanced',\r\n",
    "  'img_url': 'https://marshemispheres.com/images/valles_marineris_enhanced-full.jpg'}]"
   ],
   "outputs": [],
   "metadata": {}
  },
  {
   "cell_type": "code",
   "execution_count": 2,
   "source": [
    "\r\n",
    "    print(url[0]['img_url'])"
   ],
   "outputs": [
    {
     "output_type": "stream",
     "name": "stdout",
     "text": [
      "https://marshemispheres.com/images/full.jpg\n"
     ]
    }
   ],
   "metadata": {}
  },
  {
   "cell_type": "code",
   "execution_count": 3,
   "source": [
    "print (len(url))"
   ],
   "outputs": [
    {
     "output_type": "stream",
     "name": "stdout",
     "text": [
      "4\n"
     ]
    }
   ],
   "metadata": {}
  },
  {
   "cell_type": "code",
   "execution_count": null,
   "source": [],
   "outputs": [],
   "metadata": {}
  }
 ],
 "metadata": {
  "orig_nbformat": 4,
  "language_info": {
   "name": "python",
   "version": "3.8.5",
   "mimetype": "text/x-python",
   "codemirror_mode": {
    "name": "ipython",
    "version": 3
   },
   "pygments_lexer": "ipython3",
   "nbconvert_exporter": "python",
   "file_extension": ".py"
  },
  "kernelspec": {
   "name": "python3",
   "display_name": "Python 3.8.5 64-bit ('base': conda)"
  },
  "interpreter": {
   "hash": "eb0a5deb85624cf39522bd9ea766efe3b585b85d5e69ded4a98e5c69611b9570"
  }
 },
 "nbformat": 4,
 "nbformat_minor": 2
}